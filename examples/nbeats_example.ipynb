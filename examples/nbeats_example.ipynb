{
 "cells": [
  {
   "cell_type": "markdown",
   "id": "bcc0cb97-8d07-4dff-9238-f2c454f67959",
   "metadata": {},
   "source": [
    "https://lightning-flash.readthedocs.io/en/latest/notebooks/flash_tutorials/electricity_forecasting.html"
   ]
  },
  {
   "cell_type": "code",
   "execution_count": null,
   "id": "15c28047-9ac3-44db-9913-048a9aa06a7a",
   "metadata": {},
   "outputs": [],
   "source": []
  }
 ],
 "metadata": {
  "kernelspec": {
   "display_name": "Python 3 (ipykernel)",
   "language": "python",
   "name": "python3"
  },
  "language_info": {
   "codemirror_mode": {
    "name": "ipython",
    "version": 3
   },
   "file_extension": ".py",
   "mimetype": "text/x-python",
   "name": "python",
   "nbconvert_exporter": "python",
   "pygments_lexer": "ipython3",
   "version": "3.9.16"
  }
 },
 "nbformat": 4,
 "nbformat_minor": 5
}
