{
  "cells": [
    {
      "cell_type": "raw",
      "metadata": {},
      "source": [
        "---\n",
        "title: Explaining a Random Forest\n",
        "---"
      ],
      "id": "f434b6a0"
    },
    {
      "cell_type": "markdown",
      "metadata": {},
      "source": [
        "We'll start with a super easy example, the obligatory `iris` dataset with a random forest classifier. Below we set up the model using scikit-learn, everything so far should look very familiar.\n"
      ],
      "id": "b25f4525"
    },
    {
      "cell_type": "code",
      "metadata": {},
      "source": [
        "import numpy as np\n",
        "from sklearn.ensemble import RandomForestClassifier\n",
        "from sklearn.datasets import load_iris\n",
        "\n",
        "np.random.seed(123)\n",
        "\n",
        "iris = load_iris()\n",
        "random_forest = RandomForestClassifier()"
      ],
      "id": "5371abe7",
      "execution_count": null,
      "outputs": []
    },
    {
      "cell_type": "markdown",
      "metadata": {},
      "source": [
        "Since we'll use GPT-4 for the tutorial, and because GPT-4 is very smart, it probably knows the `iris` dataset anyway. To trick it a little bit into thinking we have a new dataset, let's just rename the features and \"jumble\" the data a bit.\n"
      ],
      "id": "644cb455"
    },
    {
      "cell_type": "code",
      "metadata": {},
      "source": [
        "feature_names = [\"length of table\", \"width of table\", \"length of dresser\", \"width of dresser\"]\n",
        "class_names = [\"living room\", \"bedroom\", \"dining room\"]\n",
        "\n",
        "X = iris.data * 1.8182\n",
        "y = iris.target\n",
        "random_forest.fit(X, y)"
      ],
      "id": "72c9dc46",
      "execution_count": null,
      "outputs": []
    },
    {
      "cell_type": "markdown",
      "metadata": {},
      "source": [
        "## Explaining the Model\n",
        "\n",
        "From here, we've fit the model and we can run predictions against the model with new data.\n"
      ],
      "id": "9fe39fbe"
    },
    {
      "cell_type": "code",
      "metadata": {},
      "source": [
        "import numpy as np\n",
        "\n",
        "new_observation = np.random.rand(1, 4)\n",
        "\n",
        "new_observation"
      ],
      "id": "b36da1e4",
      "execution_count": null,
      "outputs": []
    },
    {
      "cell_type": "code",
      "metadata": {},
      "source": [
        "random_forest.predict_proba(new_observation)"
      ],
      "id": "24d0ed90",
      "execution_count": null,
      "outputs": []
    },
    {
      "cell_type": "markdown",
      "metadata": {},
      "source": [
        "Now we can say that the most likely class to which our new observation belongs is `living room`. Of course, from here, we have a lot of questions. And if we don't then the people we show our models to sure will 😅.\n",
        "\n",
        "The random forest in scikit has some nice utilities for helping to diagnose what our model is doing under the hood. We can get the feature importances from the model.\n"
      ],
      "id": "57cfec1e"
    },
    {
      "cell_type": "code",
      "metadata": {},
      "source": [
        "random_forest.feature_importances_"
      ],
      "id": "e2e633b1",
      "execution_count": null,
      "outputs": []
    },
    {
      "cell_type": "markdown",
      "metadata": {},
      "source": [
        "We can even look at the decision path our new data took to reach it's prediction.\n"
      ],
      "id": "09164ada"
    },
    {
      "cell_type": "code",
      "metadata": {},
      "source": [
        "random_forest.decision_path(new_observation)"
      ],
      "id": "c67d5d06",
      "execution_count": null,
      "outputs": []
    },
    {
      "cell_type": "markdown",
      "metadata": {},
      "source": [
        "Great! We're done!\n",
        "\n",
        "### Not So Fast...\n",
        "\n",
        "So, at this point there are a couple of issues.\n",
        "\n",
        "1.) What the heck does any of that mean? I'm a data scientist, and even I don't think any of this output is useful.\n",
        "2.) This works for a random forest. Does it work for anything else? Can I use it in any scikit model? What about outside of scikit?\n",
        "3.) How do I make this make sense for a variety of different audiences? How do I explain it to my boss? The woman in accounting I'm building the model for? My mom?\n",
        "\n",
        "Let's start with #2. There have been many advances in explainable machine learning in recent years, and a big focus has been on creating model-agnostic explainers. Two of the biggest ones are SHAP](https://shap.readthedocs.io/en/latest/tabular_examples.html) and [LIME](https://github.com/marcotcr/lime).\n",
        "\n",
        "So, if we use model-agnostic explainers what do we get?\n"
      ],
      "id": "0479f569"
    },
    {
      "cell_type": "code",
      "metadata": {},
      "source": [
        "import shap\n",
        "\n",
        "shap_sample = shap.utils.sample(X, 10)\n",
        "\n",
        "explainer = shap.Explainer(random_forest.predict, shap_sample)\n",
        "shap_values = explainer(X)"
      ],
      "id": "f84220e4",
      "execution_count": null,
      "outputs": []
    },
    {
      "cell_type": "markdown",
      "metadata": {},
      "source": [
        "Then we can even print out a nice plot!\n"
      ],
      "id": "59ad2e19"
    },
    {
      "cell_type": "code",
      "metadata": {},
      "source": [
        "shap.plots.waterfall(shap_values[8], max_display=14)"
      ],
      "id": "18d187c9",
      "execution_count": null,
      "outputs": []
    },
    {
      "cell_type": "markdown",
      "metadata": {},
      "source": [
        "This is great, but it's still missing something. You still need to explain to a layperson what they're looking at. This might help solve issue 1.) from above, but issue 3.) remains. We can make sense of the SHAP scores if they are displayed to us nicely, but we still need to know what the SHAP score is doing. Can we do better?\n",
        "\n",
        "## Creating an Explainer that Explains\n",
        "\n",
        "SHAP is great; we don't want to redo the wheel. What we want to do is solve issue 3.) from above. To do so, let's wrap up everything we have in a simple class, similar to the `Explainer` in the `shap` library.\n"
      ],
      "id": "ad81e746"
    },
    {
      "cell_type": "code",
      "metadata": {},
      "source": [
        "from llama_lime.explainer import Explainer\n",
        "\n",
        "explainer = Explainer(\n",
        "    random_forest,\n",
        "    features=X,\n",
        "    feature_names=feature_names,\n",
        "    class_names=class_names,\n",
        "    output=y,\n",
        "    target_audience=\"a business person with a solid understanding of basic statistics\"\n",
        "    )"
      ],
      "id": "9379c861",
      "execution_count": null,
      "outputs": []
    },
    {
      "cell_type": "markdown",
      "metadata": {},
      "source": [
        "You might see that `target_audience` is something new. This takes in a natural-language prompt explaining \n",
        "\n",
        "Just like before we can print out the SHAP value.\n"
      ],
      "id": "efb8bedd"
    },
    {
      "cell_type": "code",
      "metadata": {},
      "source": [
        "explainer.add_shap(shap_sample)"
      ],
      "id": "77670829",
      "execution_count": null,
      "outputs": []
    },
    {
      "cell_type": "code",
      "metadata": {},
      "source": [
        "explainer.explain()"
      ],
      "id": "55269faa",
      "execution_count": null,
      "outputs": []
    },
    {
      "cell_type": "code",
      "metadata": {},
      "source": [
        "explainer.add_feature_importances()\n",
        "explainer.add_class_importances()\n",
        "explainer.add_instance_importances()\n",
        "explainer.add_feature_class_interactions()"
      ],
      "id": "ebb5922c",
      "execution_count": null,
      "outputs": []
    },
    {
      "cell_type": "code",
      "metadata": {},
      "source": [
        "explainer.explain()"
      ],
      "id": "19aa09c0",
      "execution_count": null,
      "outputs": []
    },
    {
      "cell_type": "code",
      "metadata": {},
      "source": [
        "explainer.add_lime(X[10:30])\n",
        "explanations = explainer.explain()"
      ],
      "id": "a0fd195d",
      "execution_count": null,
      "outputs": []
    },
    {
      "cell_type": "code",
      "metadata": {},
      "source": [
        "explainer.explain()"
      ],
      "id": "586f9191",
      "execution_count": null,
      "outputs": []
    },
    {
      "cell_type": "code",
      "metadata": {},
      "source": [
        "explainer.add_feature_importances()\n",
        "explainer.add_class_importances()\n",
        "explainer.add_instance_importances()\n",
        "explainer.add_feature_class_interactions()\n",
        "explainer.add_lime_instances(X[10:30])"
      ],
      "id": "df551f80",
      "execution_count": null,
      "outputs": []
    },
    {
      "cell_type": "code",
      "metadata": {},
      "source": [
        "explainer.explain()"
      ],
      "id": "c04135ab",
      "execution_count": null,
      "outputs": []
    }
  ],
  "metadata": {
    "kernelspec": {
      "name": "python3",
      "language": "python",
      "display_name": "Python 3 (ipykernel)"
    }
  },
  "nbformat": 4,
  "nbformat_minor": 5
}