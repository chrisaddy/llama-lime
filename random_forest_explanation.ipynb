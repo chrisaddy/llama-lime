{
 "cells": [
  {
   "cell_type": "code",
   "execution_count": 1,
   "id": "28d8976f-a131-49bc-b822-d83427600882",
   "metadata": {},
   "outputs": [
    {
     "name": "stderr",
     "output_type": "stream",
     "text": [
      "IProgress not found. Please update jupyter and ipywidgets. See https://ipywidgets.readthedocs.io/en/stable/user_install.html\n"
     ]
    }
   ],
   "source": [
    "from llama_lime.explainer import Explainer\n",
    "from sklearn.ensemble import RandomForestClassifier\n",
    "from sklearn.datasets import load_iris\n",
    "import shap\n",
    "import numpy as np"
   ]
  },
  {
   "cell_type": "code",
   "execution_count": 2,
   "id": "6865bc11-b01e-4baa-96f1-8f93f400153b",
   "metadata": {},
   "outputs": [
    {
     "data": {
      "text/html": [
       "<style>#sk-container-id-1 {color: black;background-color: white;}#sk-container-id-1 pre{padding: 0;}#sk-container-id-1 div.sk-toggleable {background-color: white;}#sk-container-id-1 label.sk-toggleable__label {cursor: pointer;display: block;width: 100%;margin-bottom: 0;padding: 0.3em;box-sizing: border-box;text-align: center;}#sk-container-id-1 label.sk-toggleable__label-arrow:before {content: \"▸\";float: left;margin-right: 0.25em;color: #696969;}#sk-container-id-1 label.sk-toggleable__label-arrow:hover:before {color: black;}#sk-container-id-1 div.sk-estimator:hover label.sk-toggleable__label-arrow:before {color: black;}#sk-container-id-1 div.sk-toggleable__content {max-height: 0;max-width: 0;overflow: hidden;text-align: left;background-color: #f0f8ff;}#sk-container-id-1 div.sk-toggleable__content pre {margin: 0.2em;color: black;border-radius: 0.25em;background-color: #f0f8ff;}#sk-container-id-1 input.sk-toggleable__control:checked~div.sk-toggleable__content {max-height: 200px;max-width: 100%;overflow: auto;}#sk-container-id-1 input.sk-toggleable__control:checked~label.sk-toggleable__label-arrow:before {content: \"▾\";}#sk-container-id-1 div.sk-estimator input.sk-toggleable__control:checked~label.sk-toggleable__label {background-color: #d4ebff;}#sk-container-id-1 div.sk-label input.sk-toggleable__control:checked~label.sk-toggleable__label {background-color: #d4ebff;}#sk-container-id-1 input.sk-hidden--visually {border: 0;clip: rect(1px 1px 1px 1px);clip: rect(1px, 1px, 1px, 1px);height: 1px;margin: -1px;overflow: hidden;padding: 0;position: absolute;width: 1px;}#sk-container-id-1 div.sk-estimator {font-family: monospace;background-color: #f0f8ff;border: 1px dotted black;border-radius: 0.25em;box-sizing: border-box;margin-bottom: 0.5em;}#sk-container-id-1 div.sk-estimator:hover {background-color: #d4ebff;}#sk-container-id-1 div.sk-parallel-item::after {content: \"\";width: 100%;border-bottom: 1px solid gray;flex-grow: 1;}#sk-container-id-1 div.sk-label:hover label.sk-toggleable__label {background-color: #d4ebff;}#sk-container-id-1 div.sk-serial::before {content: \"\";position: absolute;border-left: 1px solid gray;box-sizing: border-box;top: 0;bottom: 0;left: 50%;z-index: 0;}#sk-container-id-1 div.sk-serial {display: flex;flex-direction: column;align-items: center;background-color: white;padding-right: 0.2em;padding-left: 0.2em;position: relative;}#sk-container-id-1 div.sk-item {position: relative;z-index: 1;}#sk-container-id-1 div.sk-parallel {display: flex;align-items: stretch;justify-content: center;background-color: white;position: relative;}#sk-container-id-1 div.sk-item::before, #sk-container-id-1 div.sk-parallel-item::before {content: \"\";position: absolute;border-left: 1px solid gray;box-sizing: border-box;top: 0;bottom: 0;left: 50%;z-index: -1;}#sk-container-id-1 div.sk-parallel-item {display: flex;flex-direction: column;z-index: 1;position: relative;background-color: white;}#sk-container-id-1 div.sk-parallel-item:first-child::after {align-self: flex-end;width: 50%;}#sk-container-id-1 div.sk-parallel-item:last-child::after {align-self: flex-start;width: 50%;}#sk-container-id-1 div.sk-parallel-item:only-child::after {width: 0;}#sk-container-id-1 div.sk-dashed-wrapped {border: 1px dashed gray;margin: 0 0.4em 0.5em 0.4em;box-sizing: border-box;padding-bottom: 0.4em;background-color: white;}#sk-container-id-1 div.sk-label label {font-family: monospace;font-weight: bold;display: inline-block;line-height: 1.2em;}#sk-container-id-1 div.sk-label-container {text-align: center;}#sk-container-id-1 div.sk-container {/* jupyter's `normalize.less` sets `[hidden] { display: none; }` but bootstrap.min.css set `[hidden] { display: none !important; }` so we also need the `!important` here to be able to override the default hidden behavior on the sphinx rendered scikit-learn.org. See: https://github.com/scikit-learn/scikit-learn/issues/21755 */display: inline-block !important;position: relative;}#sk-container-id-1 div.sk-text-repr-fallback {display: none;}</style><div id=\"sk-container-id-1\" class=\"sk-top-container\"><div class=\"sk-text-repr-fallback\"><pre>RandomForestClassifier()</pre><b>In a Jupyter environment, please rerun this cell to show the HTML representation or trust the notebook. <br />On GitHub, the HTML representation is unable to render, please try loading this page with nbviewer.org.</b></div><div class=\"sk-container\" hidden><div class=\"sk-item\"><div class=\"sk-estimator sk-toggleable\"><input class=\"sk-toggleable__control sk-hidden--visually\" id=\"sk-estimator-id-1\" type=\"checkbox\" checked><label for=\"sk-estimator-id-1\" class=\"sk-toggleable__label sk-toggleable__label-arrow\">RandomForestClassifier</label><div class=\"sk-toggleable__content\"><pre>RandomForestClassifier()</pre></div></div></div></div></div>"
      ],
      "text/plain": [
       "RandomForestClassifier()"
      ]
     },
     "execution_count": 2,
     "metadata": {},
     "output_type": "execute_result"
    }
   ],
   "source": [
    "random_forest = RandomForestClassifier()\n",
    "# For simplicity, we'll just fit the model on some dummy data\n",
    "iris = load_iris()\n",
    "# make up new names so maybe it won't know this is a famous dataset?\n",
    "feature_names = [\"length of table\", \"width of table\", \"length of dresser\", \"width of dresser\"]\n",
    "X, y = iris.data, iris.target\n",
    "random_forest.fit(X, y)"
   ]
  },
  {
   "cell_type": "code",
   "execution_count": null,
   "id": "943ccdc6-de58-4637-a9c5-c8b172545603",
   "metadata": {},
   "outputs": [],
   "source": []
  },
  {
   "cell_type": "code",
   "execution_count": 3,
   "id": "bafc440d-4308-4e98-be2f-bb779d994c84",
   "metadata": {},
   "outputs": [],
   "source": [
    "# Create an explainer\n",
    "explainer = Explainer(\n",
    "    random_forest,\n",
    "    features=X,\n",
    "    feature_names=feature_names,\n",
    "    output=y,\n",
    "    class_names=[\"living room\", \"bedroom\", \"dining room\"],\n",
    "    target_audience=\"a business person with a solid understanding of basic statistics\"\n",
    ")"
   ]
  },
  {
   "cell_type": "code",
   "execution_count": 4,
   "id": "dedaa393-4574-4fab-a840-f4da72440579",
   "metadata": {},
   "outputs": [],
   "source": [
    "explainer.add_permutation_importance()"
   ]
  },
  {
   "cell_type": "code",
   "execution_count": 5,
   "id": "906e956c-0f1d-46c4-bf39-7ece79d0b8dc",
   "metadata": {},
   "outputs": [],
   "source": [
    "explainer.add_feature_importances()"
   ]
  },
  {
   "cell_type": "code",
   "execution_count": 6,
   "id": "9855b5ab-db5d-4695-a0e2-3b72b0ec3ea4",
   "metadata": {},
   "outputs": [],
   "source": [
    "explainer.add_class_importances()\n",
    "explainer.add_instance_importances()\n",
    "explainer.add_feature_class_interactions()"
   ]
  },
  {
   "cell_type": "code",
   "execution_count": 7,
   "id": "69d2531e-cb4b-4ab1-92de-5ebb3dfdd502",
   "metadata": {},
   "outputs": [],
   "source": [
    "explainer.add_lime_instances(X[10:30])"
   ]
  },
  {
   "cell_type": "code",
   "execution_count": 8,
   "id": "280a9d2b-7145-4fc5-8ece-888f40568771",
   "metadata": {},
   "outputs": [
    {
     "name": "stdout",
     "output_type": "stream",
     "text": [
      "The LIME results indicate that the width and length of the dresser have the most significant impact on the model's predictions, while the width and length of the table have a relatively smaller influence.\n"
     ]
    }
   ],
   "source": [
    "explainer.explain(\n",
    "    \"is there anything interesting from the LIME results, and do it in one sentence\"\n",
    ")"
   ]
  },
  {
   "cell_type": "code",
   "execution_count": 9,
   "id": "7c7018ad-9cf2-4c2e-98cf-2b9ce2ef0a25",
   "metadata": {},
   "outputs": [
    {
     "name": "stdout",
     "output_type": "stream",
     "text": [
      "Based on the analysis of the model, we have identified the following key findings:\n",
      "\n",
      "1. Feature Importance:\n",
      "   - The length of the dresser has the highest permutation importance, with a mean of 0.236 and a standard deviation of 0.022. This indicates that changes in the length of the dresser have the most significant impact on the model's predictions.\n",
      "   - The width of the dresser is the second most important feature, with a mean permutation importance of 0.179 and a standard deviation of 0.020.\n",
      "   - The length and width of the table have lower permutation importances, with means of 0.016 and 0.013 respectively. These features have less influence on the model's predictions compared to the dresser dimensions.\n",
      "\n",
      "2. Class Importance:\n",
      "   - The living room class has an importance of 0.329, indicating that it is influenced by the features to a moderate\n"
     ]
    }
   ],
   "source": [
    "# Use the explainer to generate explanations\n",
    "# explanations = explainer.explain(X)\n",
    "explanations = explainer.explain()"
   ]
  },
  {
   "cell_type": "code",
   "execution_count": null,
   "id": "30b63ff7-beb0-4b03-a9ef-505bd2e4ff45",
   "metadata": {},
   "outputs": [],
   "source": []
  }
 ],
 "metadata": {
  "kernelspec": {
   "display_name": "Python 3 (ipykernel)",
   "language": "python",
   "name": "python3"
  },
  "language_info": {
   "codemirror_mode": {
    "name": "ipython",
    "version": 3
   },
   "file_extension": ".py",
   "mimetype": "text/x-python",
   "name": "python",
   "nbconvert_exporter": "python",
   "pygments_lexer": "ipython3",
   "version": "3.9.16"
  }
 },
 "nbformat": 4,
 "nbformat_minor": 5
}
