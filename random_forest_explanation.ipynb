{
  "cells": [
    {
      "cell_type": "raw",
      "id": "2c34cedd",
      "metadata": {},
      "source": [
        "---\n",
        "title: Explaining a Random Forest\n",
        "---"
      ]
    },
    {
      "cell_type": "markdown",
      "id": "cd53af67",
      "metadata": {},
      "source": [
        "We'll start with a super easy example, the obligatory `iris` dataset with a random forest classifier. Below we set up the model using scikit-learn, everything so far should look very familiar.\n"
      ]
    },
    {
      "cell_type": "code",
      "execution_count": 1,
      "id": "4f68c022",
      "metadata": {},
      "outputs": [],
      "source": [
        "import numpy as np\n",
        "from sklearn.ensemble import RandomForestClassifier\n",
        "from sklearn.datasets import load_iris\n",
        "\n",
        "np.random.seed(123)\n",
        "\n",
        "iris = load_iris()\n",
        "random_forest = RandomForestClassifier()"
      ]
    },
    {
      "cell_type": "markdown",
      "id": "6f9280e3",
      "metadata": {},
      "source": [
        "Since we'll use GPT-4 for the tutorial, and because GPT-4 is very smart, it probably knows the `iris` dataset anyway. To trick it a little bit into thinking we have a new dataset, let's just rename the features and \"jumble\" the data a bit.\n"
      ]
    },
    {
      "cell_type": "code",
      "execution_count": 2,
      "id": "347c98ec",
      "metadata": {},
      "outputs": [
        {
          "data": {
            "text/html": [
              "<style>#sk-container-id-1 {color: black;background-color: white;}#sk-container-id-1 pre{padding: 0;}#sk-container-id-1 div.sk-toggleable {background-color: white;}#sk-container-id-1 label.sk-toggleable__label {cursor: pointer;display: block;width: 100%;margin-bottom: 0;padding: 0.3em;box-sizing: border-box;text-align: center;}#sk-container-id-1 label.sk-toggleable__label-arrow:before {content: \"▸\";float: left;margin-right: 0.25em;color: #696969;}#sk-container-id-1 label.sk-toggleable__label-arrow:hover:before {color: black;}#sk-container-id-1 div.sk-estimator:hover label.sk-toggleable__label-arrow:before {color: black;}#sk-container-id-1 div.sk-toggleable__content {max-height: 0;max-width: 0;overflow: hidden;text-align: left;background-color: #f0f8ff;}#sk-container-id-1 div.sk-toggleable__content pre {margin: 0.2em;color: black;border-radius: 0.25em;background-color: #f0f8ff;}#sk-container-id-1 input.sk-toggleable__control:checked~div.sk-toggleable__content {max-height: 200px;max-width: 100%;overflow: auto;}#sk-container-id-1 input.sk-toggleable__control:checked~label.sk-toggleable__label-arrow:before {content: \"▾\";}#sk-container-id-1 div.sk-estimator input.sk-toggleable__control:checked~label.sk-toggleable__label {background-color: #d4ebff;}#sk-container-id-1 div.sk-label input.sk-toggleable__control:checked~label.sk-toggleable__label {background-color: #d4ebff;}#sk-container-id-1 input.sk-hidden--visually {border: 0;clip: rect(1px 1px 1px 1px);clip: rect(1px, 1px, 1px, 1px);height: 1px;margin: -1px;overflow: hidden;padding: 0;position: absolute;width: 1px;}#sk-container-id-1 div.sk-estimator {font-family: monospace;background-color: #f0f8ff;border: 1px dotted black;border-radius: 0.25em;box-sizing: border-box;margin-bottom: 0.5em;}#sk-container-id-1 div.sk-estimator:hover {background-color: #d4ebff;}#sk-container-id-1 div.sk-parallel-item::after {content: \"\";width: 100%;border-bottom: 1px solid gray;flex-grow: 1;}#sk-container-id-1 div.sk-label:hover label.sk-toggleable__label {background-color: #d4ebff;}#sk-container-id-1 div.sk-serial::before {content: \"\";position: absolute;border-left: 1px solid gray;box-sizing: border-box;top: 0;bottom: 0;left: 50%;z-index: 0;}#sk-container-id-1 div.sk-serial {display: flex;flex-direction: column;align-items: center;background-color: white;padding-right: 0.2em;padding-left: 0.2em;position: relative;}#sk-container-id-1 div.sk-item {position: relative;z-index: 1;}#sk-container-id-1 div.sk-parallel {display: flex;align-items: stretch;justify-content: center;background-color: white;position: relative;}#sk-container-id-1 div.sk-item::before, #sk-container-id-1 div.sk-parallel-item::before {content: \"\";position: absolute;border-left: 1px solid gray;box-sizing: border-box;top: 0;bottom: 0;left: 50%;z-index: -1;}#sk-container-id-1 div.sk-parallel-item {display: flex;flex-direction: column;z-index: 1;position: relative;background-color: white;}#sk-container-id-1 div.sk-parallel-item:first-child::after {align-self: flex-end;width: 50%;}#sk-container-id-1 div.sk-parallel-item:last-child::after {align-self: flex-start;width: 50%;}#sk-container-id-1 div.sk-parallel-item:only-child::after {width: 0;}#sk-container-id-1 div.sk-dashed-wrapped {border: 1px dashed gray;margin: 0 0.4em 0.5em 0.4em;box-sizing: border-box;padding-bottom: 0.4em;background-color: white;}#sk-container-id-1 div.sk-label label {font-family: monospace;font-weight: bold;display: inline-block;line-height: 1.2em;}#sk-container-id-1 div.sk-label-container {text-align: center;}#sk-container-id-1 div.sk-container {/* jupyter's `normalize.less` sets `[hidden] { display: none; }` but bootstrap.min.css set `[hidden] { display: none !important; }` so we also need the `!important` here to be able to override the default hidden behavior on the sphinx rendered scikit-learn.org. See: https://github.com/scikit-learn/scikit-learn/issues/21755 */display: inline-block !important;position: relative;}#sk-container-id-1 div.sk-text-repr-fallback {display: none;}</style><div id=\"sk-container-id-1\" class=\"sk-top-container\"><div class=\"sk-text-repr-fallback\"><pre>RandomForestClassifier()</pre><b>In a Jupyter environment, please rerun this cell to show the HTML representation or trust the notebook. <br />On GitHub, the HTML representation is unable to render, please try loading this page with nbviewer.org.</b></div><div class=\"sk-container\" hidden><div class=\"sk-item\"><div class=\"sk-estimator sk-toggleable\"><input class=\"sk-toggleable__control sk-hidden--visually\" id=\"sk-estimator-id-1\" type=\"checkbox\" checked><label for=\"sk-estimator-id-1\" class=\"sk-toggleable__label sk-toggleable__label-arrow\">RandomForestClassifier</label><div class=\"sk-toggleable__content\"><pre>RandomForestClassifier()</pre></div></div></div></div></div>"
            ],
            "text/plain": [
              "RandomForestClassifier()"
            ]
          },
          "execution_count": 2,
          "metadata": {},
          "output_type": "execute_result"
        }
      ],
      "source": [
        "feature_names = [\"length of table\", \"width of table\", \"length of dresser\", \"width of dresser\"]\n",
        "class_names = [\"living room\", \"bedroom\", \"dining room\"]\n",
        "\n",
        "X = iris.data * 1.8182\n",
        "y = iris.target\n",
        "random_forest.fit(X, y)"
      ]
    },
    {
      "cell_type": "markdown",
      "id": "bd3d04a4",
      "metadata": {},
      "source": [
        "## Explaining the Model\n",
        "\n",
        "From here, we've fit the model and we can run predictions against the model with new data.\n"
      ]
    },
    {
      "cell_type": "code",
      "execution_count": 3,
      "id": "b4cc4317",
      "metadata": {},
      "outputs": [
        {
          "data": {
            "text/plain": [
              "array([[0.12062867, 0.8263408 , 0.60306013, 0.54506801]])"
            ]
          },
          "execution_count": 3,
          "metadata": {},
          "output_type": "execute_result"
        }
      ],
      "source": [
        "import numpy as np\n",
        "\n",
        "new_observation = np.random.rand(1, 4)\n",
        "\n",
        "new_observation"
      ]
    },
    {
      "cell_type": "code",
      "execution_count": 4,
      "id": "62c6fd4e",
      "metadata": {},
      "outputs": [
        {
          "data": {
            "text/plain": [
              "array([[0.96, 0.04, 0.  ]])"
            ]
          },
          "execution_count": 4,
          "metadata": {},
          "output_type": "execute_result"
        }
      ],
      "source": [
        "random_forest.predict_proba(new_observation)"
      ]
    },
    {
      "cell_type": "markdown",
      "id": "f4c8900a",
      "metadata": {},
      "source": [
        "Now we can say that the most likely class to which our new observation belongs is `living room`. Of course, from here, we have a lot of questions. And if we don't then the people we show our models to sure will 😅.\n",
        "\n",
        "The random forest in scikit has some nice utilities for helping to diagnose what our model is doing under the hood. We can get the feature importances from the model.\n"
      ]
    },
    {
      "cell_type": "code",
      "execution_count": 5,
      "id": "c4aafe17",
      "metadata": {},
      "outputs": [
        {
          "data": {
            "text/plain": [
              "array([0.08738947, 0.0257446 , 0.4611169 , 0.42574903])"
            ]
          },
          "execution_count": 5,
          "metadata": {},
          "output_type": "execute_result"
        }
      ],
      "source": [
        "random_forest.feature_importances_"
      ]
    },
    {
      "cell_type": "markdown",
      "id": "fd94b04c",
      "metadata": {},
      "source": [
        "We can even look at the decision path our new data took to reach it's prediction.\n"
      ]
    },
    {
      "cell_type": "code",
      "execution_count": 6,
      "id": "abcec25e",
      "metadata": {},
      "outputs": [
        {
          "data": {
            "text/plain": [
              "(<1x1708 sparse matrix of type '<class 'numpy.int64'>'\n",
              " \twith 226 stored elements in Compressed Sparse Row format>,\n",
              " array([   0,   17,   38,   59,   82,   97,  110,  123,  138,  157,  170,\n",
              "         183,  206,  225,  246,  269,  298,  323,  330,  347,  358,  375,\n",
              "         388,  407,  422,  447,  474,  493,  510,  525,  542,  549,  562,\n",
              "         581,  598,  611,  624,  641,  656,  675,  700,  715,  724,  747,\n",
              "         764,  777,  790,  803,  818,  835,  858,  873,  890,  911,  934,\n",
              "         949,  962,  977,  990, 1003, 1028, 1041, 1060, 1071, 1094, 1107,\n",
              "        1120, 1135, 1156, 1167, 1186, 1201, 1216, 1239, 1258, 1271, 1278,\n",
              "        1299, 1318, 1341, 1362, 1391, 1408, 1427, 1444, 1457, 1472, 1493,\n",
              "        1512, 1525, 1538, 1553, 1574, 1597, 1620, 1635, 1652, 1669, 1680,\n",
              "        1691, 1708]))"
            ]
          },
          "execution_count": 6,
          "metadata": {},
          "output_type": "execute_result"
        }
      ],
      "source": [
        "random_forest.decision_path(new_observation)"
      ]
    },
    {
      "cell_type": "markdown",
      "id": "066285a1",
      "metadata": {},
      "source": [
        "Great! We're done!\n",
        "\n",
        "### Not So Fast...\n",
        "\n",
        "So, at this point there are a couple of issues.\n",
        "\n",
        "1.) What the heck does any of that mean? I'm a data scientist, and even I don't think any of this output is useful.\n",
        "2.) This works for a random forest. Does it work for anything else? Can I use it in any scikit model? What about outside of scikit?\n",
        "3.) How do I make this make sense for a variety of different audiences? How do I explain it to my boss? The woman in accounting I'm building the model for? My mom?\n",
        "\n",
        "Let's start with #2. There have been many advances in explainable machine learning in recent years, and a big focus has been on creating model-agnostic explainers. Two of the biggest ones are SHAP](https://shap.readthedocs.io/en/latest/tabular_examples.html) and [LIME](https://github.com/marcotcr/lime).\n",
        "\n",
        "So, if we use model-agnostic explainers what do we get?\n"
      ]
    },
    {
      "cell_type": "code",
      "execution_count": 7,
      "id": "11cbd6f2",
      "metadata": {},
      "outputs": [
        {
          "name": "stderr",
          "output_type": "stream",
          "text": [
            "IProgress not found. Please update jupyter and ipywidgets. See https://ipywidgets.readthedocs.io/en/stable/user_install.html\n"
          ]
        }
      ],
      "source": [
        "import shap\n",
        "\n",
        "shap_sample = shap.utils.sample(X, 10)\n",
        "\n",
        "explainer = shap.Explainer(random_forest.predict, shap_sample)\n",
        "shap_values = explainer(X)"
      ]
    },
    {
      "cell_type": "markdown",
      "id": "936b8562",
      "metadata": {},
      "source": [
        "Then we can even print out a nice plot!\n"
      ]
    },
    {
      "cell_type": "code",
      "execution_count": 8,
      "id": "f7e1edd9",
      "metadata": {},
      "outputs": [
        {
          "data": {
            "image/png": "[encoded data removed]",
            "text/plain": [
              "<Figure size 800x350 with 3 Axes>"
            ]
          },
          "metadata": {},
          "output_type": "display_data"
        }
      ],
      "source": [
        "shap.plots.waterfall(shap_values[8], max_display=14)"
      ]
    },
    {
      "cell_type": "markdown",
      "id": "8a72ddaf",
      "metadata": {},
      "source": [
        "This is great, but it's still missing something. You still need to explain to a layperson what they're looking at. This might help solve issue 1.) from above, but issue 3.) remains. We can make sense of the SHAP scores if they are displayed to us nicely, but we still need to know what the SHAP score is doing. Can we do better?\n",
        "\n",
        "## Creating an Explainer that Explains\n",
        "\n",
        "SHAP is great; we don't want to redo the wheel. What we want to do is solve issue 3.) from above. To do so, let's wrap up everything we have in a simple class, similar to the `Explainer` in the `shap` library.\n"
      ]
    },
    {
      "cell_type": "code",
      "execution_count": 9,
      "id": "2343350e",
      "metadata": {},
      "outputs": [],
      "source": [
        "from hierophant.explainer import Explainer\n",
        "\n",
        "explainer = Explainer(\n",
        "    random_forest,\n",
        "    features=X,\n",
        "    feature_names=feature_names,\n",
        "    class_names=class_names,\n",
        "    output=y,\n",
        "    target_audience=\"a business person with a solid understanding of basic statistics\"\n",
        "    )"
      ]
    },
    {
      "cell_type": "markdown",
      "id": "4158842a",
      "metadata": {},
      "source": [
        "You might see that `target_audience` is something new. This takes in a natural-language prompt explaining \n",
        "\n",
        "Just like before we can print out the SHAP value.\n"
      ]
    },
    {
      "cell_type": "code",
      "execution_count": 10,
      "id": "161af4fc",
      "metadata": {},
      "outputs": [],
      "source": [
        "explainer.add_shap(shap_sample)"
      ]
    },
    {
      "cell_type": "code",
      "execution_count": 11,
      "id": "1dc09b98",
      "metadata": {},
      "outputs": [
        {
          "name": "stdout",
          "output_type": "stream",
          "text": [
            "Based on the SHAP analysis, we can provide a detailed summary of the findings for the machine learning model. However, it seems that there are no specific results or findings available for this model. It is possible that the model did not provide any SHAP values or that the SHAP analysis was not conducted for this particular model.\n",
            "\n",
            "Without any specific results, it is difficult to provide a detailed summary of the findings. It is important to note that SHAP values are useful in understanding the contribution of each feature towards the model's predictions. They help in explaining why the model made the predictions it did by quantifying the impact of each feature.\n",
            "\n",
            "In a typical scenario, if we had the SHAP values, we could have identified the features that had the most significant positive or negative impact on the model's predictions. This information would have been valuable for a business person with a solid understanding of basic statistics, as it would have provided insights into which features are driving the model's predictions and how they are influencing the outcomes.\n",
            "\n",
            "However, since we do not have any specific results or findings, we cannot provide a detailed summary of the model's behavior or the reasons behind its predictions. It is recommended to further investigate the model or consult with a data scientist to obtain more insights into its behavior and predictions.\n"
          ]
        }
      ],
      "source": [
        "explainer.explain()"
      ]
    },
    {
      "cell_type": "code",
      "execution_count": 12,
      "id": "070f410d-d076-47e4-9a67-3f3772878c6c",
      "metadata": {},
      "outputs": [
        {
          "name": "stdout",
          "output_type": "stream",
          "text": [
            "Based on the LIME instance explainer, we can see the feature contributions for each instance in the form of feature-weight pairs. Each tuple represents a feature and its impact on the prediction for a specific instance.\n",
            "\n",
            "For example, in the first tuple, we see that the width of the dresser being less than or equal to 0.55 has a negative weight of -0.195, indicating that this feature decreases the prediction for that instance. Similarly, the length of the dresser being less than or equal to 2.91 also has a negative weight of -0.176, suggesting that it decreases the prediction as well. On the other hand, the feature \"9.27 < length of table <= 10.55\" has a positive weight of 0.032, indicating that it increases the prediction. The feature \"width of table > 6.00\" also has a positive weight of 0.012, suggesting that it increases the prediction.\n",
            "\n",
            "These feature-weight pairs provide insights into how each feature contributes to the prediction for each instance. By examining these contributions, we can gain a better understanding of the factors that influence the model's predictions.\n",
            "\n",
            "It's important to note that these findings are specific to the instances analyzed and may not generalize to the entire dataset. However, they can still provide valuable insights into the local behavior of the model and help us understand the factors driving its predictions for individual instances.\n"
          ]
        }
      ],
      "source": [
        "\n"
      ]
    },
    {
      "cell_type": "code",
      "execution_count": null,
      "id": "bfa6389d-cd62-4150-bbab-8927ff6249e1",
      "metadata": {},
      "outputs": [],
      "source": []
    }
  ],
  "metadata": {
    "kernelspec": {
      "display_name": "Python 3 (ipykernel)",
      "language": "python",
      "name": "python3"
    },
    "language_info": {
      "codemirror_mode": {
        "name": "ipython",
        "version": 3
      },
      "file_extension": ".py",
      "mimetype": "text/x-python",
      "name": "python",
      "nbconvert_exporter": "python",
      "pygments_lexer": "ipython3",
      "version": "3.9.16"
    }
  },
  "nbformat": 4,
  "nbformat_minor": 5
}
